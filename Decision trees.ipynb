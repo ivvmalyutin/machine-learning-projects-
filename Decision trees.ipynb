{
 "cells": [
  {
   "cell_type": "code",
   "execution_count": 2,
   "id": "c8e7ef36",
   "metadata": {},
   "outputs": [
    {
     "name": "stdout",
     "output_type": "stream",
     "text": [
      "Requirement already satisfied: pydotplus in ./opt/anaconda3/lib/python3.9/site-packages (2.0.2)\n",
      "Requirement already satisfied: pyparsing>=2.0.1 in ./opt/anaconda3/lib/python3.9/site-packages (from pydotplus) (3.0.9)\n",
      "Collecting package metadata (current_repodata.json): done\n",
      "Solving environment: done\n",
      "\n",
      "# All requested packages already installed.\n",
      "\n"
     ]
    }
   ],
   "source": [
    "%matplotlib inline\n",
    "from matplotlib import pyplot as plt\n",
    "\n",
    "plt.rcParams[\"figure.figsize\"] = (10, 8)\n",
    "import collections\n",
    "from io import StringIO\n",
    "!pip install pydotplus\n",
    "import sklearn\n",
    "import numpy as np\n",
    "import pandas as pd\n",
    "import pydotplus  # pip install pydotplus\n",
    "import seaborn as sns\n",
    "from ipywidgets import Image\n",
    "from sklearn import preprocessing\n",
    "from sklearn.ensemble import RandomForestClassifier\n",
    "from sklearn.metrics import accuracy_score\n",
    "from sklearn.model_selection import GridSearchCV\n",
    "from sklearn.preprocessing import LabelEncoder\n",
    "from sklearn.tree import DecisionTreeClassifier, export_graphviz\n",
    "!conda install --yes graphviz\n",
    "from IPython import display"
   ]
  },
  {
   "cell_type": "code",
   "execution_count": 3,
   "id": "108b64f3",
   "metadata": {},
   "outputs": [],
   "source": [
    "# Create dataframe with dummy variables\n",
    "def create_df(dic, feature_list):\n",
    "    out = pd.DataFrame(dic)\n",
    "    out = pd.concat([out, pd.get_dummies(out[feature_list])], axis=1)\n",
    "    out.drop(feature_list, axis=1, inplace=True)\n",
    "    return out\n",
    "\n",
    "\n",
    "# Some feature values are present in train and absent in test and vice-versa.\n",
    "def intersect_features(train, test):\n",
    "    common_feat = list(set(train.keys()) & set(test.keys()))\n",
    "    return train[common_feat], test[common_feat]\n",
    "\n",
    "def tree_graph_to_png(tree, feature_names, png_file_to_save):\n",
    "    # needs graphviz to be installed\n",
    "    tree_str = export_graphviz(\n",
    "        tree, feature_names=feature_names, filled=True, out_file=None\n",
    "    )\n",
    "    graph = pydotplus.graph_from_dot_data(tree_str)\n",
    "    graph.write_png(png_file_to_save)"
   ]
  },
  {
   "cell_type": "code",
   "execution_count": 4,
   "id": "2a30cd57",
   "metadata": {},
   "outputs": [],
   "source": [
    "features = [\"Looks\", \"Alcoholic_beverage\", \"Eloquence\", \"Money_spent\"]"
   ]
  },
  {
   "cell_type": "code",
   "execution_count": 5,
   "id": "f98b71c2",
   "metadata": {},
   "outputs": [],
   "source": [
    "#training data\n",
    "\n",
    "df_train = {}\n",
    "df_train[\"Looks\"] = [\n",
    "    \"handsome\",\n",
    "    \"handsome\",\n",
    "    \"handsome\",\n",
    "    \"repulsive\",\n",
    "    \"repulsive\",\n",
    "    \"repulsive\",\n",
    "    \"handsome\",\n",
    "]\n",
    "df_train[\"Alcoholic_beverage\"] = [\"yes\", \"yes\", \"no\", \"no\", \"yes\", \"yes\", \"yes\"]\n",
    "df_train[\"Eloquence\"] = [\"high\", \"low\", \"average\", \"average\", \"low\", \"high\", \"average\"]\n",
    "df_train[\"Money_spent\"] = [\"lots\", \"little\", \"lots\", \"little\", \"lots\", \"lots\", \"lots\"]\n",
    "df_train[\"Will_go\"] = LabelEncoder().fit_transform([\"+\", \"-\", \"+\", \"-\", \"-\", \"+\", \"+\"])\n",
    "\n",
    "df_train = create_df(df_train, features)\n",
    "df_target = df_train"
   ]
  },
  {
   "cell_type": "code",
   "execution_count": 6,
   "id": "94cd6e25",
   "metadata": {},
   "outputs": [
    {
     "data": {
      "text/html": [
       "<div>\n",
       "<style scoped>\n",
       "    .dataframe tbody tr th:only-of-type {\n",
       "        vertical-align: middle;\n",
       "    }\n",
       "\n",
       "    .dataframe tbody tr th {\n",
       "        vertical-align: top;\n",
       "    }\n",
       "\n",
       "    .dataframe thead th {\n",
       "        text-align: right;\n",
       "    }\n",
       "</style>\n",
       "<table border=\"1\" class=\"dataframe\">\n",
       "  <thead>\n",
       "    <tr style=\"text-align: right;\">\n",
       "      <th></th>\n",
       "      <th>Looks_handsome</th>\n",
       "      <th>Looks_repulsive</th>\n",
       "      <th>Alcoholic_beverage_no</th>\n",
       "      <th>Alcoholic_beverage_yes</th>\n",
       "      <th>Eloquence_average</th>\n",
       "      <th>Eloquence_high</th>\n",
       "      <th>Money_spent_little</th>\n",
       "      <th>Money_spent_lots</th>\n",
       "    </tr>\n",
       "  </thead>\n",
       "  <tbody>\n",
       "    <tr>\n",
       "      <th>0</th>\n",
       "      <td>1</td>\n",
       "      <td>0</td>\n",
       "      <td>1</td>\n",
       "      <td>0</td>\n",
       "      <td>1</td>\n",
       "      <td>0</td>\n",
       "      <td>0</td>\n",
       "      <td>1</td>\n",
       "    </tr>\n",
       "    <tr>\n",
       "      <th>1</th>\n",
       "      <td>1</td>\n",
       "      <td>0</td>\n",
       "      <td>0</td>\n",
       "      <td>1</td>\n",
       "      <td>0</td>\n",
       "      <td>1</td>\n",
       "      <td>1</td>\n",
       "      <td>0</td>\n",
       "    </tr>\n",
       "    <tr>\n",
       "      <th>2</th>\n",
       "      <td>0</td>\n",
       "      <td>1</td>\n",
       "      <td>0</td>\n",
       "      <td>1</td>\n",
       "      <td>1</td>\n",
       "      <td>0</td>\n",
       "      <td>0</td>\n",
       "      <td>1</td>\n",
       "    </tr>\n",
       "  </tbody>\n",
       "</table>\n",
       "</div>"
      ],
      "text/plain": [
       "   Looks_handsome  Looks_repulsive  Alcoholic_beverage_no  \\\n",
       "0               1                0                      1   \n",
       "1               1                0                      0   \n",
       "2               0                1                      0   \n",
       "\n",
       "   Alcoholic_beverage_yes  Eloquence_average  Eloquence_high  \\\n",
       "0                       0                  1               0   \n",
       "1                       1                  0               1   \n",
       "2                       1                  1               0   \n",
       "\n",
       "   Money_spent_little  Money_spent_lots  \n",
       "0                   0                 1  \n",
       "1                   1                 0  \n",
       "2                   0                 1  "
      ]
     },
     "execution_count": 6,
     "metadata": {},
     "output_type": "execute_result"
    }
   ],
   "source": [
    "#test data\n",
    "df_test = {}\n",
    "df_test[\"Looks\"] = [\"handsome\", \"handsome\", \"repulsive\"]\n",
    "df_test[\"Alcoholic_beverage\"] = [\"no\", \"yes\", \"yes\"]\n",
    "df_test[\"Eloquence\"] = [\"average\", \"high\", \"average\"]\n",
    "df_test[\"Money_spent\"] = [\"lots\", \"little\", \"lots\"]\n",
    "df_test = create_df(df_test, features)\n",
    "df_test"
   ]
  },
  {
   "cell_type": "code",
   "execution_count": 7,
   "id": "6e2cf6db",
   "metadata": {},
   "outputs": [
    {
     "data": {
      "text/html": [
       "<div>\n",
       "<style scoped>\n",
       "    .dataframe tbody tr th:only-of-type {\n",
       "        vertical-align: middle;\n",
       "    }\n",
       "\n",
       "    .dataframe tbody tr th {\n",
       "        vertical-align: top;\n",
       "    }\n",
       "\n",
       "    .dataframe thead th {\n",
       "        text-align: right;\n",
       "    }\n",
       "</style>\n",
       "<table border=\"1\" class=\"dataframe\">\n",
       "  <thead>\n",
       "    <tr style=\"text-align: right;\">\n",
       "      <th></th>\n",
       "      <th>Alcoholic_beverage_yes</th>\n",
       "      <th>Money_spent_lots</th>\n",
       "      <th>Money_spent_little</th>\n",
       "      <th>Looks_handsome</th>\n",
       "      <th>Eloquence_high</th>\n",
       "      <th>Looks_repulsive</th>\n",
       "      <th>Alcoholic_beverage_no</th>\n",
       "      <th>Eloquence_average</th>\n",
       "    </tr>\n",
       "  </thead>\n",
       "  <tbody>\n",
       "    <tr>\n",
       "      <th>0</th>\n",
       "      <td>1</td>\n",
       "      <td>1</td>\n",
       "      <td>0</td>\n",
       "      <td>1</td>\n",
       "      <td>1</td>\n",
       "      <td>0</td>\n",
       "      <td>0</td>\n",
       "      <td>0</td>\n",
       "    </tr>\n",
       "    <tr>\n",
       "      <th>1</th>\n",
       "      <td>1</td>\n",
       "      <td>0</td>\n",
       "      <td>1</td>\n",
       "      <td>1</td>\n",
       "      <td>0</td>\n",
       "      <td>0</td>\n",
       "      <td>0</td>\n",
       "      <td>0</td>\n",
       "    </tr>\n",
       "    <tr>\n",
       "      <th>2</th>\n",
       "      <td>0</td>\n",
       "      <td>1</td>\n",
       "      <td>0</td>\n",
       "      <td>1</td>\n",
       "      <td>0</td>\n",
       "      <td>0</td>\n",
       "      <td>1</td>\n",
       "      <td>1</td>\n",
       "    </tr>\n",
       "    <tr>\n",
       "      <th>3</th>\n",
       "      <td>0</td>\n",
       "      <td>0</td>\n",
       "      <td>1</td>\n",
       "      <td>0</td>\n",
       "      <td>0</td>\n",
       "      <td>1</td>\n",
       "      <td>1</td>\n",
       "      <td>1</td>\n",
       "    </tr>\n",
       "    <tr>\n",
       "      <th>4</th>\n",
       "      <td>1</td>\n",
       "      <td>1</td>\n",
       "      <td>0</td>\n",
       "      <td>0</td>\n",
       "      <td>0</td>\n",
       "      <td>1</td>\n",
       "      <td>0</td>\n",
       "      <td>0</td>\n",
       "    </tr>\n",
       "    <tr>\n",
       "      <th>5</th>\n",
       "      <td>1</td>\n",
       "      <td>1</td>\n",
       "      <td>0</td>\n",
       "      <td>0</td>\n",
       "      <td>1</td>\n",
       "      <td>1</td>\n",
       "      <td>0</td>\n",
       "      <td>0</td>\n",
       "    </tr>\n",
       "    <tr>\n",
       "      <th>6</th>\n",
       "      <td>1</td>\n",
       "      <td>1</td>\n",
       "      <td>0</td>\n",
       "      <td>1</td>\n",
       "      <td>0</td>\n",
       "      <td>0</td>\n",
       "      <td>0</td>\n",
       "      <td>1</td>\n",
       "    </tr>\n",
       "  </tbody>\n",
       "</table>\n",
       "</div>"
      ],
      "text/plain": [
       "   Alcoholic_beverage_yes  Money_spent_lots  Money_spent_little  \\\n",
       "0                       1                 1                   0   \n",
       "1                       1                 0                   1   \n",
       "2                       0                 1                   0   \n",
       "3                       0                 0                   1   \n",
       "4                       1                 1                   0   \n",
       "5                       1                 1                   0   \n",
       "6                       1                 1                   0   \n",
       "\n",
       "   Looks_handsome  Eloquence_high  Looks_repulsive  Alcoholic_beverage_no  \\\n",
       "0               1               1                0                      0   \n",
       "1               1               0                0                      0   \n",
       "2               1               0                0                      1   \n",
       "3               0               0                1                      1   \n",
       "4               0               0                1                      0   \n",
       "5               0               1                1                      0   \n",
       "6               1               0                0                      0   \n",
       "\n",
       "   Eloquence_average  \n",
       "0                  0  \n",
       "1                  0  \n",
       "2                  1  \n",
       "3                  1  \n",
       "4                  0  \n",
       "5                  0  \n",
       "6                  1  "
      ]
     },
     "execution_count": 7,
     "metadata": {},
     "output_type": "execute_result"
    }
   ],
   "source": [
    "# Some feature values are present in train and absent in test and vice-versa.\n",
    "y = df_train[\"Will_go\"]\n",
    "df_train, df_test = intersect_features(train=df_train, test=df_test)\n",
    "df_train"
   ]
  },
  {
   "cell_type": "code",
   "execution_count": 8,
   "id": "1a5fb07c",
   "metadata": {},
   "outputs": [
    {
     "data": {
      "text/html": [
       "<div>\n",
       "<style scoped>\n",
       "    .dataframe tbody tr th:only-of-type {\n",
       "        vertical-align: middle;\n",
       "    }\n",
       "\n",
       "    .dataframe tbody tr th {\n",
       "        vertical-align: top;\n",
       "    }\n",
       "\n",
       "    .dataframe thead th {\n",
       "        text-align: right;\n",
       "    }\n",
       "</style>\n",
       "<table border=\"1\" class=\"dataframe\">\n",
       "  <thead>\n",
       "    <tr style=\"text-align: right;\">\n",
       "      <th></th>\n",
       "      <th>Alcoholic_beverage_yes</th>\n",
       "      <th>Money_spent_lots</th>\n",
       "      <th>Money_spent_little</th>\n",
       "      <th>Looks_handsome</th>\n",
       "      <th>Eloquence_high</th>\n",
       "      <th>Looks_repulsive</th>\n",
       "      <th>Alcoholic_beverage_no</th>\n",
       "      <th>Eloquence_average</th>\n",
       "    </tr>\n",
       "  </thead>\n",
       "  <tbody>\n",
       "    <tr>\n",
       "      <th>0</th>\n",
       "      <td>0</td>\n",
       "      <td>1</td>\n",
       "      <td>0</td>\n",
       "      <td>1</td>\n",
       "      <td>0</td>\n",
       "      <td>0</td>\n",
       "      <td>1</td>\n",
       "      <td>1</td>\n",
       "    </tr>\n",
       "    <tr>\n",
       "      <th>1</th>\n",
       "      <td>1</td>\n",
       "      <td>0</td>\n",
       "      <td>1</td>\n",
       "      <td>1</td>\n",
       "      <td>1</td>\n",
       "      <td>0</td>\n",
       "      <td>0</td>\n",
       "      <td>0</td>\n",
       "    </tr>\n",
       "    <tr>\n",
       "      <th>2</th>\n",
       "      <td>1</td>\n",
       "      <td>1</td>\n",
       "      <td>0</td>\n",
       "      <td>0</td>\n",
       "      <td>0</td>\n",
       "      <td>1</td>\n",
       "      <td>0</td>\n",
       "      <td>1</td>\n",
       "    </tr>\n",
       "  </tbody>\n",
       "</table>\n",
       "</div>"
      ],
      "text/plain": [
       "   Alcoholic_beverage_yes  Money_spent_lots  Money_spent_little  \\\n",
       "0                       0                 1                   0   \n",
       "1                       1                 0                   1   \n",
       "2                       1                 1                   0   \n",
       "\n",
       "   Looks_handsome  Eloquence_high  Looks_repulsive  Alcoholic_beverage_no  \\\n",
       "0               1               0                0                      1   \n",
       "1               1               1                0                      0   \n",
       "2               0               0                1                      0   \n",
       "\n",
       "   Eloquence_average  \n",
       "0                  1  \n",
       "1                  0  \n",
       "2                  1  "
      ]
     },
     "execution_count": 8,
     "metadata": {},
     "output_type": "execute_result"
    }
   ],
   "source": [
    "df_test"
   ]
  },
  {
   "cell_type": "code",
   "execution_count": 9,
   "id": "7e44fb3d",
   "metadata": {},
   "outputs": [],
   "source": [
    "#1. What is the entropy of the initial system? \n",
    "# By system states, we mean values of the binary feature “Will_go” - 0 or 1 - two states in total."
   ]
  },
  {
   "cell_type": "code",
   "execution_count": 10,
   "id": "a168a4cb",
   "metadata": {},
   "outputs": [
    {
     "name": "stdout",
     "output_type": "stream",
     "text": [
      "Entropy of the inital system is 0.985\n"
     ]
    }
   ],
   "source": [
    "#S = -sum_{i}(p_i * log_2(p_i))\n",
    "p_0 = 4/7\n",
    "p_1 = 3/7\n",
    "S = -p_0 * np.log2(p_0) - p_1 * np.log2(p_1)\n",
    "S = round(S, 3)\n",
    "print('Entropy of the inital system is ' + str(S))"
   ]
  },
  {
   "cell_type": "code",
   "execution_count": 11,
   "id": "04612329",
   "metadata": {},
   "outputs": [],
   "source": [
    "#2. Let’s split the data by the feature “Looks_handsome”. What is the entropy \n",
    "# of the left group - the one with “Looks_handsome”. What is the entropy \n",
    "# in the opposite group? What is the information gain (IG) if we consider such a split?"
   ]
  },
  {
   "cell_type": "code",
   "execution_count": 12,
   "id": "cdfcda13",
   "metadata": {},
   "outputs": [
    {
     "data": {
      "text/html": [
       "<div>\n",
       "<style scoped>\n",
       "    .dataframe tbody tr th:only-of-type {\n",
       "        vertical-align: middle;\n",
       "    }\n",
       "\n",
       "    .dataframe tbody tr th {\n",
       "        vertical-align: top;\n",
       "    }\n",
       "\n",
       "    .dataframe thead th {\n",
       "        text-align: right;\n",
       "    }\n",
       "</style>\n",
       "<table border=\"1\" class=\"dataframe\">\n",
       "  <thead>\n",
       "    <tr style=\"text-align: right;\">\n",
       "      <th></th>\n",
       "      <th>Will_go</th>\n",
       "      <th>Looks_handsome</th>\n",
       "      <th>Looks_repulsive</th>\n",
       "      <th>Alcoholic_beverage_no</th>\n",
       "      <th>Alcoholic_beverage_yes</th>\n",
       "      <th>Eloquence_average</th>\n",
       "      <th>Eloquence_high</th>\n",
       "      <th>Eloquence_low</th>\n",
       "      <th>Money_spent_little</th>\n",
       "      <th>Money_spent_lots</th>\n",
       "    </tr>\n",
       "  </thead>\n",
       "  <tbody>\n",
       "    <tr>\n",
       "      <th>0</th>\n",
       "      <td>0</td>\n",
       "      <td>1</td>\n",
       "      <td>0</td>\n",
       "      <td>0</td>\n",
       "      <td>1</td>\n",
       "      <td>0</td>\n",
       "      <td>1</td>\n",
       "      <td>0</td>\n",
       "      <td>0</td>\n",
       "      <td>1</td>\n",
       "    </tr>\n",
       "    <tr>\n",
       "      <th>1</th>\n",
       "      <td>1</td>\n",
       "      <td>1</td>\n",
       "      <td>0</td>\n",
       "      <td>0</td>\n",
       "      <td>1</td>\n",
       "      <td>0</td>\n",
       "      <td>0</td>\n",
       "      <td>1</td>\n",
       "      <td>1</td>\n",
       "      <td>0</td>\n",
       "    </tr>\n",
       "    <tr>\n",
       "      <th>2</th>\n",
       "      <td>0</td>\n",
       "      <td>1</td>\n",
       "      <td>0</td>\n",
       "      <td>1</td>\n",
       "      <td>0</td>\n",
       "      <td>1</td>\n",
       "      <td>0</td>\n",
       "      <td>0</td>\n",
       "      <td>0</td>\n",
       "      <td>1</td>\n",
       "    </tr>\n",
       "    <tr>\n",
       "      <th>3</th>\n",
       "      <td>1</td>\n",
       "      <td>0</td>\n",
       "      <td>1</td>\n",
       "      <td>1</td>\n",
       "      <td>0</td>\n",
       "      <td>1</td>\n",
       "      <td>0</td>\n",
       "      <td>0</td>\n",
       "      <td>1</td>\n",
       "      <td>0</td>\n",
       "    </tr>\n",
       "    <tr>\n",
       "      <th>4</th>\n",
       "      <td>1</td>\n",
       "      <td>0</td>\n",
       "      <td>1</td>\n",
       "      <td>0</td>\n",
       "      <td>1</td>\n",
       "      <td>0</td>\n",
       "      <td>0</td>\n",
       "      <td>1</td>\n",
       "      <td>0</td>\n",
       "      <td>1</td>\n",
       "    </tr>\n",
       "    <tr>\n",
       "      <th>5</th>\n",
       "      <td>0</td>\n",
       "      <td>0</td>\n",
       "      <td>1</td>\n",
       "      <td>0</td>\n",
       "      <td>1</td>\n",
       "      <td>0</td>\n",
       "      <td>1</td>\n",
       "      <td>0</td>\n",
       "      <td>0</td>\n",
       "      <td>1</td>\n",
       "    </tr>\n",
       "    <tr>\n",
       "      <th>6</th>\n",
       "      <td>0</td>\n",
       "      <td>1</td>\n",
       "      <td>0</td>\n",
       "      <td>0</td>\n",
       "      <td>1</td>\n",
       "      <td>1</td>\n",
       "      <td>0</td>\n",
       "      <td>0</td>\n",
       "      <td>0</td>\n",
       "      <td>1</td>\n",
       "    </tr>\n",
       "  </tbody>\n",
       "</table>\n",
       "</div>"
      ],
      "text/plain": [
       "   Will_go  Looks_handsome  Looks_repulsive  Alcoholic_beverage_no  \\\n",
       "0        0               1                0                      0   \n",
       "1        1               1                0                      0   \n",
       "2        0               1                0                      1   \n",
       "3        1               0                1                      1   \n",
       "4        1               0                1                      0   \n",
       "5        0               0                1                      0   \n",
       "6        0               1                0                      0   \n",
       "\n",
       "   Alcoholic_beverage_yes  Eloquence_average  Eloquence_high  Eloquence_low  \\\n",
       "0                       1                  0               1              0   \n",
       "1                       1                  0               0              1   \n",
       "2                       0                  1               0              0   \n",
       "3                       0                  1               0              0   \n",
       "4                       1                  0               0              1   \n",
       "5                       1                  0               1              0   \n",
       "6                       1                  1               0              0   \n",
       "\n",
       "   Money_spent_little  Money_spent_lots  \n",
       "0                   0                 1  \n",
       "1                   1                 0  \n",
       "2                   0                 1  \n",
       "3                   1                 0  \n",
       "4                   0                 1  \n",
       "5                   0                 1  \n",
       "6                   0                 1  "
      ]
     },
     "execution_count": 12,
     "metadata": {},
     "output_type": "execute_result"
    }
   ],
   "source": [
    "df_target"
   ]
  },
  {
   "cell_type": "code",
   "execution_count": 13,
   "id": "5c587cb8",
   "metadata": {},
   "outputs": [],
   "source": [
    "#devide into two groups\n",
    "left_group = df_target[df_target['Looks_handsome'] == 1]\n",
    "right_group = df_target[df_target['Looks_handsome'] == 0]"
   ]
  },
  {
   "cell_type": "code",
   "execution_count": 14,
   "id": "7361284b",
   "metadata": {},
   "outputs": [
    {
     "data": {
      "text/html": [
       "<div>\n",
       "<style scoped>\n",
       "    .dataframe tbody tr th:only-of-type {\n",
       "        vertical-align: middle;\n",
       "    }\n",
       "\n",
       "    .dataframe tbody tr th {\n",
       "        vertical-align: top;\n",
       "    }\n",
       "\n",
       "    .dataframe thead th {\n",
       "        text-align: right;\n",
       "    }\n",
       "</style>\n",
       "<table border=\"1\" class=\"dataframe\">\n",
       "  <thead>\n",
       "    <tr style=\"text-align: right;\">\n",
       "      <th></th>\n",
       "      <th>Will_go</th>\n",
       "      <th>Looks_handsome</th>\n",
       "      <th>Looks_repulsive</th>\n",
       "      <th>Alcoholic_beverage_no</th>\n",
       "      <th>Alcoholic_beverage_yes</th>\n",
       "      <th>Eloquence_average</th>\n",
       "      <th>Eloquence_high</th>\n",
       "      <th>Eloquence_low</th>\n",
       "      <th>Money_spent_little</th>\n",
       "      <th>Money_spent_lots</th>\n",
       "    </tr>\n",
       "  </thead>\n",
       "  <tbody>\n",
       "    <tr>\n",
       "      <th>0</th>\n",
       "      <td>0</td>\n",
       "      <td>1</td>\n",
       "      <td>0</td>\n",
       "      <td>0</td>\n",
       "      <td>1</td>\n",
       "      <td>0</td>\n",
       "      <td>1</td>\n",
       "      <td>0</td>\n",
       "      <td>0</td>\n",
       "      <td>1</td>\n",
       "    </tr>\n",
       "    <tr>\n",
       "      <th>1</th>\n",
       "      <td>1</td>\n",
       "      <td>1</td>\n",
       "      <td>0</td>\n",
       "      <td>0</td>\n",
       "      <td>1</td>\n",
       "      <td>0</td>\n",
       "      <td>0</td>\n",
       "      <td>1</td>\n",
       "      <td>1</td>\n",
       "      <td>0</td>\n",
       "    </tr>\n",
       "    <tr>\n",
       "      <th>2</th>\n",
       "      <td>0</td>\n",
       "      <td>1</td>\n",
       "      <td>0</td>\n",
       "      <td>1</td>\n",
       "      <td>0</td>\n",
       "      <td>1</td>\n",
       "      <td>0</td>\n",
       "      <td>0</td>\n",
       "      <td>0</td>\n",
       "      <td>1</td>\n",
       "    </tr>\n",
       "    <tr>\n",
       "      <th>6</th>\n",
       "      <td>0</td>\n",
       "      <td>1</td>\n",
       "      <td>0</td>\n",
       "      <td>0</td>\n",
       "      <td>1</td>\n",
       "      <td>1</td>\n",
       "      <td>0</td>\n",
       "      <td>0</td>\n",
       "      <td>0</td>\n",
       "      <td>1</td>\n",
       "    </tr>\n",
       "  </tbody>\n",
       "</table>\n",
       "</div>"
      ],
      "text/plain": [
       "   Will_go  Looks_handsome  Looks_repulsive  Alcoholic_beverage_no  \\\n",
       "0        0               1                0                      0   \n",
       "1        1               1                0                      0   \n",
       "2        0               1                0                      1   \n",
       "6        0               1                0                      0   \n",
       "\n",
       "   Alcoholic_beverage_yes  Eloquence_average  Eloquence_high  Eloquence_low  \\\n",
       "0                       1                  0               1              0   \n",
       "1                       1                  0               0              1   \n",
       "2                       0                  1               0              0   \n",
       "6                       1                  1               0              0   \n",
       "\n",
       "   Money_spent_little  Money_spent_lots  \n",
       "0                   0                 1  \n",
       "1                   1                 0  \n",
       "2                   0                 1  \n",
       "6                   0                 1  "
      ]
     },
     "execution_count": 14,
     "metadata": {},
     "output_type": "execute_result"
    }
   ],
   "source": [
    "left_group"
   ]
  },
  {
   "cell_type": "code",
   "execution_count": 15,
   "id": "8aaf0420",
   "metadata": {},
   "outputs": [
    {
     "data": {
      "text/html": [
       "<div>\n",
       "<style scoped>\n",
       "    .dataframe tbody tr th:only-of-type {\n",
       "        vertical-align: middle;\n",
       "    }\n",
       "\n",
       "    .dataframe tbody tr th {\n",
       "        vertical-align: top;\n",
       "    }\n",
       "\n",
       "    .dataframe thead th {\n",
       "        text-align: right;\n",
       "    }\n",
       "</style>\n",
       "<table border=\"1\" class=\"dataframe\">\n",
       "  <thead>\n",
       "    <tr style=\"text-align: right;\">\n",
       "      <th></th>\n",
       "      <th>Will_go</th>\n",
       "      <th>Looks_handsome</th>\n",
       "      <th>Looks_repulsive</th>\n",
       "      <th>Alcoholic_beverage_no</th>\n",
       "      <th>Alcoholic_beverage_yes</th>\n",
       "      <th>Eloquence_average</th>\n",
       "      <th>Eloquence_high</th>\n",
       "      <th>Eloquence_low</th>\n",
       "      <th>Money_spent_little</th>\n",
       "      <th>Money_spent_lots</th>\n",
       "    </tr>\n",
       "  </thead>\n",
       "  <tbody>\n",
       "    <tr>\n",
       "      <th>3</th>\n",
       "      <td>1</td>\n",
       "      <td>0</td>\n",
       "      <td>1</td>\n",
       "      <td>1</td>\n",
       "      <td>0</td>\n",
       "      <td>1</td>\n",
       "      <td>0</td>\n",
       "      <td>0</td>\n",
       "      <td>1</td>\n",
       "      <td>0</td>\n",
       "    </tr>\n",
       "    <tr>\n",
       "      <th>4</th>\n",
       "      <td>1</td>\n",
       "      <td>0</td>\n",
       "      <td>1</td>\n",
       "      <td>0</td>\n",
       "      <td>1</td>\n",
       "      <td>0</td>\n",
       "      <td>0</td>\n",
       "      <td>1</td>\n",
       "      <td>0</td>\n",
       "      <td>1</td>\n",
       "    </tr>\n",
       "    <tr>\n",
       "      <th>5</th>\n",
       "      <td>0</td>\n",
       "      <td>0</td>\n",
       "      <td>1</td>\n",
       "      <td>0</td>\n",
       "      <td>1</td>\n",
       "      <td>0</td>\n",
       "      <td>1</td>\n",
       "      <td>0</td>\n",
       "      <td>0</td>\n",
       "      <td>1</td>\n",
       "    </tr>\n",
       "  </tbody>\n",
       "</table>\n",
       "</div>"
      ],
      "text/plain": [
       "   Will_go  Looks_handsome  Looks_repulsive  Alcoholic_beverage_no  \\\n",
       "3        1               0                1                      1   \n",
       "4        1               0                1                      0   \n",
       "5        0               0                1                      0   \n",
       "\n",
       "   Alcoholic_beverage_yes  Eloquence_average  Eloquence_high  Eloquence_low  \\\n",
       "3                       0                  1               0              0   \n",
       "4                       1                  0               0              1   \n",
       "5                       1                  0               1              0   \n",
       "\n",
       "   Money_spent_little  Money_spent_lots  \n",
       "3                   1                 0  \n",
       "4                   0                 1  \n",
       "5                   0                 1  "
      ]
     },
     "execution_count": 15,
     "metadata": {},
     "output_type": "execute_result"
    }
   ],
   "source": [
    "right_group"
   ]
  },
  {
   "cell_type": "code",
   "execution_count": 16,
   "id": "4aaf9e0f",
   "metadata": {},
   "outputs": [
    {
     "name": "stdout",
     "output_type": "stream",
     "text": [
      " Left group Entropy: 0.811\n",
      " Right group Entropy: 0.918\n",
      " Information gain: 0.128\n"
     ]
    }
   ],
   "source": [
    "#calculate entropy and IG\n",
    "#IG = S_0 - sum_i({N_i/N} * S_i)\n",
    "S_l = round(-(3/4) * np.log2(3/4) - 1/4 * np.log2(1/4), 3)\n",
    "S_r = round(-(1/3) * np.log2(1/3) - 2/3 * np.log2(2/3), 3)\n",
    "IG = round(S - (4/7)* S_l - (3/7) * S_r, 3)\n",
    "print(' Left group Entropy: ' +  str(S_l) + '\\n Right group Entropy: ' + str(S_r) + '\\n Information gain: ' + str(IG))"
   ]
  },
  {
   "cell_type": "code",
   "execution_count": 17,
   "id": "af3c555b",
   "metadata": {},
   "outputs": [],
   "source": [
    "#Train a decision tree using sklearn on the training data"
   ]
  },
  {
   "cell_type": "code",
   "execution_count": 48,
   "id": "d034653d",
   "metadata": {},
   "outputs": [
    {
     "data": {
      "text/plain": [
       "DecisionTreeClassifier(criterion='entropy', random_state=17)"
      ]
     },
     "execution_count": 48,
     "metadata": {},
     "output_type": "execute_result"
    }
   ],
   "source": [
    "clf_tree = DecisionTreeClassifier(criterion='entropy', random_state=17)\n",
    "clf_tree.fit(df_train, y)"
   ]
  },
  {
   "cell_type": "code",
   "execution_count": 51,
   "id": "5f4d315f",
   "metadata": {},
   "outputs": [],
   "source": [
    "def tree_graph_to_png(tree, feature_names, png_file_to_save):\n",
    "    # needs graphviz to be installed\n",
    "    tree_str = sklearn.tree.export_graphviz(\n",
    "        tree, feature_names=df_train.columns, filled=True, class_names=[\"Won't go\", \"Will go\"]\n",
    "    )\n",
    "    graph = pydotplus.graph_from_dot_data(tree_str)\n",
    "    graph.write_png(png_file_to_save)"
   ]
  },
  {
   "cell_type": "code",
   "execution_count": 52,
   "id": "7a54484c",
   "metadata": {},
   "outputs": [
    {
     "data": {
      "image/png": "[encoded data removed]",
      "text/plain": [
       "<IPython.core.display.Image object>"
      ]
     },
     "execution_count": 52,
     "metadata": {},
     "output_type": "execute_result"
    }
   ],
   "source": [
    "tree_graph_to_png(\n",
    "    tree=clf_tree,\n",
    "    feature_names=df_train.columns,\n",
    "    png_file_to_save=\"topic3_decision_tree1.png\",\n",
    ")\n",
    "display.Image(\"topic3_decision_tree1.png\")"
   ]
  },
  {
   "cell_type": "code",
   "execution_count": 66,
   "id": "18cca840",
   "metadata": {},
   "outputs": [],
   "source": [
    "#Functions for calculating entropy and information gain for list of balls (0 for first-type balls and 1 for another)"
   ]
  },
  {
   "cell_type": "code",
   "execution_count": 67,
   "id": "c84f842a",
   "metadata": {},
   "outputs": [],
   "source": [
    "balls = [1 for i in range(9)] + [0 for i in range(11)]"
   ]
  },
  {
   "cell_type": "code",
   "execution_count": 68,
   "id": "0277a770",
   "metadata": {},
   "outputs": [
    {
     "data": {
      "text/plain": [
       "[1, 1, 1, 1, 1, 1, 1, 1, 1, 0, 0, 0, 0, 0, 0, 0, 0, 0, 0, 0]"
      ]
     },
     "execution_count": 68,
     "metadata": {},
     "output_type": "execute_result"
    }
   ],
   "source": [
    "balls"
   ]
  },
  {
   "cell_type": "code",
   "execution_count": 69,
   "id": "8983c295",
   "metadata": {},
   "outputs": [],
   "source": [
    "balls_left = [1 for i in range(8)] + [0 for i in range(5)]  # 8 blue and 5 yellow\n",
    "balls_right = [1 for i in range(1)] + [0 for i in range(6)]  # 1 blue and 6 yellow"
   ]
  },
  {
   "cell_type": "code",
   "execution_count": 70,
   "id": "240184f4",
   "metadata": {},
   "outputs": [
    {
     "data": {
      "text/plain": [
       "([1, 1, 1, 1, 1, 1, 1, 1, 0, 0, 0, 0, 0], [1, 0, 0, 0, 0, 0, 0])"
      ]
     },
     "execution_count": 70,
     "metadata": {},
     "output_type": "execute_result"
    }
   ],
   "source": [
    "balls_left, balls_right"
   ]
  },
  {
   "cell_type": "code",
   "execution_count": 71,
   "id": "a2c26c93",
   "metadata": {},
   "outputs": [],
   "source": [
    "#Implement a function to calculate the Shannon Entropy"
   ]
  },
  {
   "cell_type": "code",
   "execution_count": 114,
   "id": "834ffaef",
   "metadata": {},
   "outputs": [],
   "source": [
    "def entropy(a_list):\n",
    "    distinct_val = set(a_list)\n",
    "    S = 0\n",
    "    for val in distinct_val: \n",
    "        number_of_val = len(list(filter(lambda x: x==val, a_list)))\n",
    "        S-= (number_of_val/len(a_list)) * np.log2(number_of_val/len(a_list))\n",
    "    return round(S, 3) "
   ]
  },
  {
   "cell_type": "code",
   "execution_count": 115,
   "id": "bc295df5",
   "metadata": {},
   "outputs": [
    {
     "name": "stdout",
     "output_type": "stream",
     "text": [
      "0.993\n",
      "0.961\n",
      "0.592\n",
      "2.585\n"
     ]
    }
   ],
   "source": [
    "print(entropy(balls))  # 9 blue и 11 yellow\n",
    "print(entropy(balls_left))  # 8 blue и 5 yellow\n",
    "print(entropy(balls_right))  # 1 blue и 6 yellow\n",
    "print(entropy([1, 2, 3, 4, 5, 6]))  # entropy of a fair 6-sided die"
   ]
  },
  {
   "cell_type": "code",
   "execution_count": 116,
   "id": "88a79358",
   "metadata": {},
   "outputs": [
    {
     "name": "stdout",
     "output_type": "stream",
     "text": [
      "0.961\n"
     ]
    }
   ],
   "source": [
    "#3. What is the entropy of the state given by the list balls_left? \n",
    "print(entropy(balls_left))"
   ]
  },
  {
   "cell_type": "code",
   "execution_count": 204,
   "id": "34c4eff7",
   "metadata": {},
   "outputs": [
    {
     "name": "stdout",
     "output_type": "stream",
     "text": [
      "2.585\n"
     ]
    }
   ],
   "source": [
    "#4. What is the entropy of a fair dice? (where we look at a dice as a system with 6 equally probable states)?\n",
    "print(entropy([1, 2, 3, 4, 5, 6]))"
   ]
  },
  {
   "cell_type": "code",
   "execution_count": 205,
   "id": "d4711951",
   "metadata": {},
   "outputs": [],
   "source": [
    "#Implement a function to calculate the Information Gain"
   ]
  },
  {
   "cell_type": "code",
   "execution_count": 206,
   "id": "58cc4cea",
   "metadata": {},
   "outputs": [],
   "source": [
    "# information gain calculation\n",
    "#root - initial data\n",
    "def information_gain(root, left, right):\n",
    "    IG = entropy(root)\n",
    "    IG -= entropy(left) * (len(left)/len(root))\n",
    "    IG -= entropy(right) * (len(right)/len(root))\n",
    "    return round(IG, 3)"
   ]
  },
  {
   "cell_type": "code",
   "execution_count": 277,
   "id": "2613fe7c",
   "metadata": {},
   "outputs": [
    {
     "name": "stdout",
     "output_type": "stream",
     "text": [
      "0.161\n"
     ]
    }
   ],
   "source": [
    "#5. What is the information gain of splitting the initial dataset into balls_left and balls_right?\n",
    "print(information_gain(balls,balls_left, balls_right))"
   ]
  },
  {
   "cell_type": "code",
   "execution_count": 208,
   "id": "23ea26fc",
   "metadata": {},
   "outputs": [],
   "source": [
    "#The “Adult” dataset"
   ]
  },
  {
   "cell_type": "code",
   "execution_count": 209,
   "id": "214f6492",
   "metadata": {},
   "outputs": [],
   "source": [
    "DATA_PATH = \"https://raw.githubusercontent.com/Yorko/mlcourse.ai/master/data/\"\n",
    "data_train = pd.read_csv(DATA_PATH + \"adult_train.csv\", sep=\";\")\n",
    "data_test = pd.read_csv(DATA_PATH + \"adult_test.csv\", sep=\";\")"
   ]
  },
  {
   "cell_type": "code",
   "execution_count": 210,
   "id": "7b0435f5",
   "metadata": {},
   "outputs": [
    {
     "data": {
      "text/html": [
       "<div>\n",
       "<style scoped>\n",
       "    .dataframe tbody tr th:only-of-type {\n",
       "        vertical-align: middle;\n",
       "    }\n",
       "\n",
       "    .dataframe tbody tr th {\n",
       "        vertical-align: top;\n",
       "    }\n",
       "\n",
       "    .dataframe thead th {\n",
       "        text-align: right;\n",
       "    }\n",
       "</style>\n",
       "<table border=\"1\" class=\"dataframe\">\n",
       "  <thead>\n",
       "    <tr style=\"text-align: right;\">\n",
       "      <th></th>\n",
       "      <th>Age</th>\n",
       "      <th>Workclass</th>\n",
       "      <th>fnlwgt</th>\n",
       "      <th>Education</th>\n",
       "      <th>Education_Num</th>\n",
       "      <th>Martial_Status</th>\n",
       "      <th>Occupation</th>\n",
       "      <th>Relationship</th>\n",
       "      <th>Race</th>\n",
       "      <th>Sex</th>\n",
       "      <th>Capital_Gain</th>\n",
       "      <th>Capital_Loss</th>\n",
       "      <th>Hours_per_week</th>\n",
       "      <th>Country</th>\n",
       "      <th>Target</th>\n",
       "    </tr>\n",
       "  </thead>\n",
       "  <tbody>\n",
       "    <tr>\n",
       "      <th>32556</th>\n",
       "      <td>27</td>\n",
       "      <td>Private</td>\n",
       "      <td>257302</td>\n",
       "      <td>Assoc-acdm</td>\n",
       "      <td>12</td>\n",
       "      <td>Married-civ-spouse</td>\n",
       "      <td>Tech-support</td>\n",
       "      <td>Wife</td>\n",
       "      <td>White</td>\n",
       "      <td>Female</td>\n",
       "      <td>0</td>\n",
       "      <td>0</td>\n",
       "      <td>38</td>\n",
       "      <td>United-States</td>\n",
       "      <td>&lt;=50K</td>\n",
       "    </tr>\n",
       "    <tr>\n",
       "      <th>32557</th>\n",
       "      <td>40</td>\n",
       "      <td>Private</td>\n",
       "      <td>154374</td>\n",
       "      <td>HS-grad</td>\n",
       "      <td>9</td>\n",
       "      <td>Married-civ-spouse</td>\n",
       "      <td>Machine-op-inspct</td>\n",
       "      <td>Husband</td>\n",
       "      <td>White</td>\n",
       "      <td>Male</td>\n",
       "      <td>0</td>\n",
       "      <td>0</td>\n",
       "      <td>40</td>\n",
       "      <td>United-States</td>\n",
       "      <td>&gt;50K</td>\n",
       "    </tr>\n",
       "    <tr>\n",
       "      <th>32558</th>\n",
       "      <td>58</td>\n",
       "      <td>Private</td>\n",
       "      <td>151910</td>\n",
       "      <td>HS-grad</td>\n",
       "      <td>9</td>\n",
       "      <td>Widowed</td>\n",
       "      <td>Adm-clerical</td>\n",
       "      <td>Unmarried</td>\n",
       "      <td>White</td>\n",
       "      <td>Female</td>\n",
       "      <td>0</td>\n",
       "      <td>0</td>\n",
       "      <td>40</td>\n",
       "      <td>United-States</td>\n",
       "      <td>&lt;=50K</td>\n",
       "    </tr>\n",
       "    <tr>\n",
       "      <th>32559</th>\n",
       "      <td>22</td>\n",
       "      <td>Private</td>\n",
       "      <td>201490</td>\n",
       "      <td>HS-grad</td>\n",
       "      <td>9</td>\n",
       "      <td>Never-married</td>\n",
       "      <td>Adm-clerical</td>\n",
       "      <td>Own-child</td>\n",
       "      <td>White</td>\n",
       "      <td>Male</td>\n",
       "      <td>0</td>\n",
       "      <td>0</td>\n",
       "      <td>20</td>\n",
       "      <td>United-States</td>\n",
       "      <td>&lt;=50K</td>\n",
       "    </tr>\n",
       "    <tr>\n",
       "      <th>32560</th>\n",
       "      <td>52</td>\n",
       "      <td>Self-emp-inc</td>\n",
       "      <td>287927</td>\n",
       "      <td>HS-grad</td>\n",
       "      <td>9</td>\n",
       "      <td>Married-civ-spouse</td>\n",
       "      <td>Exec-managerial</td>\n",
       "      <td>Wife</td>\n",
       "      <td>White</td>\n",
       "      <td>Female</td>\n",
       "      <td>15024</td>\n",
       "      <td>0</td>\n",
       "      <td>40</td>\n",
       "      <td>United-States</td>\n",
       "      <td>&gt;50K</td>\n",
       "    </tr>\n",
       "  </tbody>\n",
       "</table>\n",
       "</div>"
      ],
      "text/plain": [
       "       Age      Workclass  fnlwgt    Education  Education_Num  \\\n",
       "32556   27        Private  257302   Assoc-acdm             12   \n",
       "32557   40        Private  154374      HS-grad              9   \n",
       "32558   58        Private  151910      HS-grad              9   \n",
       "32559   22        Private  201490      HS-grad              9   \n",
       "32560   52   Self-emp-inc  287927      HS-grad              9   \n",
       "\n",
       "            Martial_Status          Occupation Relationship    Race      Sex  \\\n",
       "32556   Married-civ-spouse        Tech-support         Wife   White   Female   \n",
       "32557   Married-civ-spouse   Machine-op-inspct      Husband   White     Male   \n",
       "32558              Widowed        Adm-clerical    Unmarried   White   Female   \n",
       "32559        Never-married        Adm-clerical    Own-child   White     Male   \n",
       "32560   Married-civ-spouse     Exec-managerial         Wife   White   Female   \n",
       "\n",
       "       Capital_Gain  Capital_Loss  Hours_per_week         Country  Target  \n",
       "32556             0             0              38   United-States   <=50K  \n",
       "32557             0             0              40   United-States    >50K  \n",
       "32558             0             0              40   United-States   <=50K  \n",
       "32559             0             0              20   United-States   <=50K  \n",
       "32560         15024             0              40   United-States    >50K  "
      ]
     },
     "execution_count": 210,
     "metadata": {},
     "output_type": "execute_result"
    }
   ],
   "source": [
    "data_train.tail()"
   ]
  },
  {
   "cell_type": "code",
   "execution_count": 211,
   "id": "97e9097b",
   "metadata": {},
   "outputs": [
    {
     "data": {
      "text/html": [
       "<div>\n",
       "<style scoped>\n",
       "    .dataframe tbody tr th:only-of-type {\n",
       "        vertical-align: middle;\n",
       "    }\n",
       "\n",
       "    .dataframe tbody tr th {\n",
       "        vertical-align: top;\n",
       "    }\n",
       "\n",
       "    .dataframe thead th {\n",
       "        text-align: right;\n",
       "    }\n",
       "</style>\n",
       "<table border=\"1\" class=\"dataframe\">\n",
       "  <thead>\n",
       "    <tr style=\"text-align: right;\">\n",
       "      <th></th>\n",
       "      <th>Age</th>\n",
       "      <th>Workclass</th>\n",
       "      <th>fnlwgt</th>\n",
       "      <th>Education</th>\n",
       "      <th>Education_Num</th>\n",
       "      <th>Martial_Status</th>\n",
       "      <th>Occupation</th>\n",
       "      <th>Relationship</th>\n",
       "      <th>Race</th>\n",
       "      <th>Sex</th>\n",
       "      <th>Capital_Gain</th>\n",
       "      <th>Capital_Loss</th>\n",
       "      <th>Hours_per_week</th>\n",
       "      <th>Country</th>\n",
       "      <th>Target</th>\n",
       "    </tr>\n",
       "  </thead>\n",
       "  <tbody>\n",
       "    <tr>\n",
       "      <th>16277</th>\n",
       "      <td>39</td>\n",
       "      <td>Private</td>\n",
       "      <td>215419.0</td>\n",
       "      <td>Bachelors</td>\n",
       "      <td>13.0</td>\n",
       "      <td>Divorced</td>\n",
       "      <td>Prof-specialty</td>\n",
       "      <td>Not-in-family</td>\n",
       "      <td>White</td>\n",
       "      <td>Female</td>\n",
       "      <td>0.0</td>\n",
       "      <td>0.0</td>\n",
       "      <td>36.0</td>\n",
       "      <td>United-States</td>\n",
       "      <td>&lt;=50K.</td>\n",
       "    </tr>\n",
       "    <tr>\n",
       "      <th>16278</th>\n",
       "      <td>64</td>\n",
       "      <td>NaN</td>\n",
       "      <td>321403.0</td>\n",
       "      <td>HS-grad</td>\n",
       "      <td>9.0</td>\n",
       "      <td>Widowed</td>\n",
       "      <td>NaN</td>\n",
       "      <td>Other-relative</td>\n",
       "      <td>Black</td>\n",
       "      <td>Male</td>\n",
       "      <td>0.0</td>\n",
       "      <td>0.0</td>\n",
       "      <td>40.0</td>\n",
       "      <td>United-States</td>\n",
       "      <td>&lt;=50K.</td>\n",
       "    </tr>\n",
       "    <tr>\n",
       "      <th>16279</th>\n",
       "      <td>38</td>\n",
       "      <td>Private</td>\n",
       "      <td>374983.0</td>\n",
       "      <td>Bachelors</td>\n",
       "      <td>13.0</td>\n",
       "      <td>Married-civ-spouse</td>\n",
       "      <td>Prof-specialty</td>\n",
       "      <td>Husband</td>\n",
       "      <td>White</td>\n",
       "      <td>Male</td>\n",
       "      <td>0.0</td>\n",
       "      <td>0.0</td>\n",
       "      <td>50.0</td>\n",
       "      <td>United-States</td>\n",
       "      <td>&lt;=50K.</td>\n",
       "    </tr>\n",
       "    <tr>\n",
       "      <th>16280</th>\n",
       "      <td>44</td>\n",
       "      <td>Private</td>\n",
       "      <td>83891.0</td>\n",
       "      <td>Bachelors</td>\n",
       "      <td>13.0</td>\n",
       "      <td>Divorced</td>\n",
       "      <td>Adm-clerical</td>\n",
       "      <td>Own-child</td>\n",
       "      <td>Asian-Pac-Islander</td>\n",
       "      <td>Male</td>\n",
       "      <td>5455.0</td>\n",
       "      <td>0.0</td>\n",
       "      <td>40.0</td>\n",
       "      <td>United-States</td>\n",
       "      <td>&lt;=50K.</td>\n",
       "    </tr>\n",
       "    <tr>\n",
       "      <th>16281</th>\n",
       "      <td>35</td>\n",
       "      <td>Self-emp-inc</td>\n",
       "      <td>182148.0</td>\n",
       "      <td>Bachelors</td>\n",
       "      <td>13.0</td>\n",
       "      <td>Married-civ-spouse</td>\n",
       "      <td>Exec-managerial</td>\n",
       "      <td>Husband</td>\n",
       "      <td>White</td>\n",
       "      <td>Male</td>\n",
       "      <td>0.0</td>\n",
       "      <td>0.0</td>\n",
       "      <td>60.0</td>\n",
       "      <td>United-States</td>\n",
       "      <td>&gt;50K.</td>\n",
       "    </tr>\n",
       "  </tbody>\n",
       "</table>\n",
       "</div>"
      ],
      "text/plain": [
       "      Age      Workclass    fnlwgt   Education  Education_Num  \\\n",
       "16277  39        Private  215419.0   Bachelors           13.0   \n",
       "16278  64            NaN  321403.0     HS-grad            9.0   \n",
       "16279  38        Private  374983.0   Bachelors           13.0   \n",
       "16280  44        Private   83891.0   Bachelors           13.0   \n",
       "16281  35   Self-emp-inc  182148.0   Bachelors           13.0   \n",
       "\n",
       "            Martial_Status        Occupation     Relationship  \\\n",
       "16277             Divorced    Prof-specialty    Not-in-family   \n",
       "16278              Widowed               NaN   Other-relative   \n",
       "16279   Married-civ-spouse    Prof-specialty          Husband   \n",
       "16280             Divorced      Adm-clerical        Own-child   \n",
       "16281   Married-civ-spouse   Exec-managerial          Husband   \n",
       "\n",
       "                      Race      Sex  Capital_Gain  Capital_Loss  \\\n",
       "16277                White   Female           0.0           0.0   \n",
       "16278                Black     Male           0.0           0.0   \n",
       "16279                White     Male           0.0           0.0   \n",
       "16280   Asian-Pac-Islander     Male        5455.0           0.0   \n",
       "16281                White     Male           0.0           0.0   \n",
       "\n",
       "       Hours_per_week         Country   Target  \n",
       "16277            36.0   United-States   <=50K.  \n",
       "16278            40.0   United-States   <=50K.  \n",
       "16279            50.0   United-States   <=50K.  \n",
       "16280            40.0   United-States   <=50K.  \n",
       "16281            60.0   United-States    >50K.  "
      ]
     },
     "execution_count": 211,
     "metadata": {},
     "output_type": "execute_result"
    }
   ],
   "source": [
    "data_test.tail()"
   ]
  },
  {
   "cell_type": "code",
   "execution_count": 212,
   "id": "9c84731a",
   "metadata": {},
   "outputs": [],
   "source": [
    "# necessary to remove rows with incorrect labels in test dataset\n",
    "data_test = data_test[\n",
    "    (data_test[\"Target\"] == \" >50K.\") | (data_test[\"Target\"] == \" <=50K.\")\n",
    "]\n",
    "\n",
    "# encode target variable as integer\n",
    "data_train.loc[data_train[\"Target\"] == \" <=50K\", \"Target\"] = 0\n",
    "data_train.loc[data_train[\"Target\"] == \" >50K\", \"Target\"] = 1\n",
    "\n",
    "data_test.loc[data_test[\"Target\"] == \" <=50K.\", \"Target\"] = 0\n",
    "data_test.loc[data_test[\"Target\"] == \" >50K.\", \"Target\"] = 1"
   ]
  },
  {
   "cell_type": "code",
   "execution_count": 213,
   "id": "55615c90",
   "metadata": {},
   "outputs": [
    {
     "data": {
      "text/html": [
       "<div>\n",
       "<style scoped>\n",
       "    .dataframe tbody tr th:only-of-type {\n",
       "        vertical-align: middle;\n",
       "    }\n",
       "\n",
       "    .dataframe tbody tr th {\n",
       "        vertical-align: top;\n",
       "    }\n",
       "\n",
       "    .dataframe thead th {\n",
       "        text-align: right;\n",
       "    }\n",
       "</style>\n",
       "<table border=\"1\" class=\"dataframe\">\n",
       "  <thead>\n",
       "    <tr style=\"text-align: right;\">\n",
       "      <th></th>\n",
       "      <th>count</th>\n",
       "      <th>unique</th>\n",
       "      <th>top</th>\n",
       "      <th>freq</th>\n",
       "      <th>mean</th>\n",
       "      <th>std</th>\n",
       "      <th>min</th>\n",
       "      <th>25%</th>\n",
       "      <th>50%</th>\n",
       "      <th>75%</th>\n",
       "      <th>max</th>\n",
       "    </tr>\n",
       "  </thead>\n",
       "  <tbody>\n",
       "    <tr>\n",
       "      <th>Age</th>\n",
       "      <td>16281</td>\n",
       "      <td>73</td>\n",
       "      <td>35</td>\n",
       "      <td>461</td>\n",
       "      <td>NaN</td>\n",
       "      <td>NaN</td>\n",
       "      <td>NaN</td>\n",
       "      <td>NaN</td>\n",
       "      <td>NaN</td>\n",
       "      <td>NaN</td>\n",
       "      <td>NaN</td>\n",
       "    </tr>\n",
       "    <tr>\n",
       "      <th>Workclass</th>\n",
       "      <td>15318</td>\n",
       "      <td>8</td>\n",
       "      <td>Private</td>\n",
       "      <td>11210</td>\n",
       "      <td>NaN</td>\n",
       "      <td>NaN</td>\n",
       "      <td>NaN</td>\n",
       "      <td>NaN</td>\n",
       "      <td>NaN</td>\n",
       "      <td>NaN</td>\n",
       "      <td>NaN</td>\n",
       "    </tr>\n",
       "    <tr>\n",
       "      <th>fnlwgt</th>\n",
       "      <td>16281.0</td>\n",
       "      <td>NaN</td>\n",
       "      <td>NaN</td>\n",
       "      <td>NaN</td>\n",
       "      <td>189435.677784</td>\n",
       "      <td>105714.907671</td>\n",
       "      <td>13492.0</td>\n",
       "      <td>116736.0</td>\n",
       "      <td>177831.0</td>\n",
       "      <td>238384.0</td>\n",
       "      <td>1490400.0</td>\n",
       "    </tr>\n",
       "    <tr>\n",
       "      <th>Education</th>\n",
       "      <td>16281</td>\n",
       "      <td>16</td>\n",
       "      <td>HS-grad</td>\n",
       "      <td>5283</td>\n",
       "      <td>NaN</td>\n",
       "      <td>NaN</td>\n",
       "      <td>NaN</td>\n",
       "      <td>NaN</td>\n",
       "      <td>NaN</td>\n",
       "      <td>NaN</td>\n",
       "      <td>NaN</td>\n",
       "    </tr>\n",
       "    <tr>\n",
       "      <th>Education_Num</th>\n",
       "      <td>16281.0</td>\n",
       "      <td>NaN</td>\n",
       "      <td>NaN</td>\n",
       "      <td>NaN</td>\n",
       "      <td>10.072907</td>\n",
       "      <td>2.567545</td>\n",
       "      <td>1.0</td>\n",
       "      <td>9.0</td>\n",
       "      <td>10.0</td>\n",
       "      <td>12.0</td>\n",
       "      <td>16.0</td>\n",
       "    </tr>\n",
       "    <tr>\n",
       "      <th>Martial_Status</th>\n",
       "      <td>16281</td>\n",
       "      <td>7</td>\n",
       "      <td>Married-civ-spouse</td>\n",
       "      <td>7403</td>\n",
       "      <td>NaN</td>\n",
       "      <td>NaN</td>\n",
       "      <td>NaN</td>\n",
       "      <td>NaN</td>\n",
       "      <td>NaN</td>\n",
       "      <td>NaN</td>\n",
       "      <td>NaN</td>\n",
       "    </tr>\n",
       "    <tr>\n",
       "      <th>Occupation</th>\n",
       "      <td>15315</td>\n",
       "      <td>14</td>\n",
       "      <td>Prof-specialty</td>\n",
       "      <td>2032</td>\n",
       "      <td>NaN</td>\n",
       "      <td>NaN</td>\n",
       "      <td>NaN</td>\n",
       "      <td>NaN</td>\n",
       "      <td>NaN</td>\n",
       "      <td>NaN</td>\n",
       "      <td>NaN</td>\n",
       "    </tr>\n",
       "    <tr>\n",
       "      <th>Relationship</th>\n",
       "      <td>16281</td>\n",
       "      <td>6</td>\n",
       "      <td>Husband</td>\n",
       "      <td>6523</td>\n",
       "      <td>NaN</td>\n",
       "      <td>NaN</td>\n",
       "      <td>NaN</td>\n",
       "      <td>NaN</td>\n",
       "      <td>NaN</td>\n",
       "      <td>NaN</td>\n",
       "      <td>NaN</td>\n",
       "    </tr>\n",
       "    <tr>\n",
       "      <th>Race</th>\n",
       "      <td>16281</td>\n",
       "      <td>5</td>\n",
       "      <td>White</td>\n",
       "      <td>13946</td>\n",
       "      <td>NaN</td>\n",
       "      <td>NaN</td>\n",
       "      <td>NaN</td>\n",
       "      <td>NaN</td>\n",
       "      <td>NaN</td>\n",
       "      <td>NaN</td>\n",
       "      <td>NaN</td>\n",
       "    </tr>\n",
       "    <tr>\n",
       "      <th>Sex</th>\n",
       "      <td>16281</td>\n",
       "      <td>2</td>\n",
       "      <td>Male</td>\n",
       "      <td>10860</td>\n",
       "      <td>NaN</td>\n",
       "      <td>NaN</td>\n",
       "      <td>NaN</td>\n",
       "      <td>NaN</td>\n",
       "      <td>NaN</td>\n",
       "      <td>NaN</td>\n",
       "      <td>NaN</td>\n",
       "    </tr>\n",
       "    <tr>\n",
       "      <th>Capital_Gain</th>\n",
       "      <td>16281.0</td>\n",
       "      <td>NaN</td>\n",
       "      <td>NaN</td>\n",
       "      <td>NaN</td>\n",
       "      <td>1081.905104</td>\n",
       "      <td>7583.935968</td>\n",
       "      <td>0.0</td>\n",
       "      <td>0.0</td>\n",
       "      <td>0.0</td>\n",
       "      <td>0.0</td>\n",
       "      <td>99999.0</td>\n",
       "    </tr>\n",
       "    <tr>\n",
       "      <th>Capital_Loss</th>\n",
       "      <td>16281.0</td>\n",
       "      <td>NaN</td>\n",
       "      <td>NaN</td>\n",
       "      <td>NaN</td>\n",
       "      <td>87.899269</td>\n",
       "      <td>403.105286</td>\n",
       "      <td>0.0</td>\n",
       "      <td>0.0</td>\n",
       "      <td>0.0</td>\n",
       "      <td>0.0</td>\n",
       "      <td>3770.0</td>\n",
       "    </tr>\n",
       "    <tr>\n",
       "      <th>Hours_per_week</th>\n",
       "      <td>16281.0</td>\n",
       "      <td>NaN</td>\n",
       "      <td>NaN</td>\n",
       "      <td>NaN</td>\n",
       "      <td>40.392236</td>\n",
       "      <td>12.479332</td>\n",
       "      <td>1.0</td>\n",
       "      <td>40.0</td>\n",
       "      <td>40.0</td>\n",
       "      <td>45.0</td>\n",
       "      <td>99.0</td>\n",
       "    </tr>\n",
       "    <tr>\n",
       "      <th>Country</th>\n",
       "      <td>16007</td>\n",
       "      <td>40</td>\n",
       "      <td>United-States</td>\n",
       "      <td>14662</td>\n",
       "      <td>NaN</td>\n",
       "      <td>NaN</td>\n",
       "      <td>NaN</td>\n",
       "      <td>NaN</td>\n",
       "      <td>NaN</td>\n",
       "      <td>NaN</td>\n",
       "      <td>NaN</td>\n",
       "    </tr>\n",
       "    <tr>\n",
       "      <th>Target</th>\n",
       "      <td>16281.0</td>\n",
       "      <td>2.0</td>\n",
       "      <td>0.0</td>\n",
       "      <td>12435.0</td>\n",
       "      <td>NaN</td>\n",
       "      <td>NaN</td>\n",
       "      <td>NaN</td>\n",
       "      <td>NaN</td>\n",
       "      <td>NaN</td>\n",
       "      <td>NaN</td>\n",
       "      <td>NaN</td>\n",
       "    </tr>\n",
       "  </tbody>\n",
       "</table>\n",
       "</div>"
      ],
      "text/plain": [
       "                  count unique                  top     freq           mean  \\\n",
       "Age               16281     73                   35      461            NaN   \n",
       "Workclass         15318      8              Private    11210            NaN   \n",
       "fnlwgt          16281.0    NaN                  NaN      NaN  189435.677784   \n",
       "Education         16281     16              HS-grad     5283            NaN   \n",
       "Education_Num   16281.0    NaN                  NaN      NaN      10.072907   \n",
       "Martial_Status    16281      7   Married-civ-spouse     7403            NaN   \n",
       "Occupation        15315     14       Prof-specialty     2032            NaN   \n",
       "Relationship      16281      6              Husband     6523            NaN   \n",
       "Race              16281      5                White    13946            NaN   \n",
       "Sex               16281      2                 Male    10860            NaN   \n",
       "Capital_Gain    16281.0    NaN                  NaN      NaN    1081.905104   \n",
       "Capital_Loss    16281.0    NaN                  NaN      NaN      87.899269   \n",
       "Hours_per_week  16281.0    NaN                  NaN      NaN      40.392236   \n",
       "Country           16007     40        United-States    14662            NaN   \n",
       "Target          16281.0    2.0                  0.0  12435.0            NaN   \n",
       "\n",
       "                          std      min       25%       50%       75%  \\\n",
       "Age                       NaN      NaN       NaN       NaN       NaN   \n",
       "Workclass                 NaN      NaN       NaN       NaN       NaN   \n",
       "fnlwgt          105714.907671  13492.0  116736.0  177831.0  238384.0   \n",
       "Education                 NaN      NaN       NaN       NaN       NaN   \n",
       "Education_Num        2.567545      1.0       9.0      10.0      12.0   \n",
       "Martial_Status            NaN      NaN       NaN       NaN       NaN   \n",
       "Occupation                NaN      NaN       NaN       NaN       NaN   \n",
       "Relationship              NaN      NaN       NaN       NaN       NaN   \n",
       "Race                      NaN      NaN       NaN       NaN       NaN   \n",
       "Sex                       NaN      NaN       NaN       NaN       NaN   \n",
       "Capital_Gain      7583.935968      0.0       0.0       0.0       0.0   \n",
       "Capital_Loss       403.105286      0.0       0.0       0.0       0.0   \n",
       "Hours_per_week      12.479332      1.0      40.0      40.0      45.0   \n",
       "Country                   NaN      NaN       NaN       NaN       NaN   \n",
       "Target                    NaN      NaN       NaN       NaN       NaN   \n",
       "\n",
       "                      max  \n",
       "Age                   NaN  \n",
       "Workclass             NaN  \n",
       "fnlwgt          1490400.0  \n",
       "Education             NaN  \n",
       "Education_Num        16.0  \n",
       "Martial_Status        NaN  \n",
       "Occupation            NaN  \n",
       "Relationship          NaN  \n",
       "Race                  NaN  \n",
       "Sex                   NaN  \n",
       "Capital_Gain      99999.0  \n",
       "Capital_Loss       3770.0  \n",
       "Hours_per_week       99.0  \n",
       "Country               NaN  \n",
       "Target                NaN  "
      ]
     },
     "execution_count": 213,
     "metadata": {},
     "output_type": "execute_result"
    }
   ],
   "source": [
    "data_test.describe(include=\"all\").T"
   ]
  },
  {
   "cell_type": "code",
   "execution_count": 214,
   "id": "623caf9d",
   "metadata": {},
   "outputs": [
    {
     "data": {
      "text/plain": [
       "0    24720\n",
       "1     7841\n",
       "Name: Target, dtype: int64"
      ]
     },
     "execution_count": 214,
     "metadata": {},
     "output_type": "execute_result"
    }
   ],
   "source": [
    "data_train[\"Target\"].value_counts()"
   ]
  },
  {
   "cell_type": "code",
   "execution_count": 215,
   "id": "b75cacec",
   "metadata": {},
   "outputs": [
    {
     "data": {
      "image/png": "[encoded data removed]",
      "text/plain": [
       "<Figure size 2500x1500 with 15 Axes>"
      ]
     },
     "metadata": {},
     "output_type": "display_data"
    }
   ],
   "source": [
    "fig = plt.figure(figsize=(25, 15))\n",
    "cols = 5\n",
    "rows = int(data_train.shape[1] / cols)\n",
    "for i, column in enumerate(data_train.columns):\n",
    "    ax = fig.add_subplot(rows, cols, i + 1)\n",
    "    ax.set_title(column)\n",
    "    if data_train.dtypes[column] == object:\n",
    "        data_train[column].value_counts().plot(kind=\"bar\", axes=ax)\n",
    "    else:\n",
    "        data_train[column].hist(axes=ax)\n",
    "        plt.xticks(rotation=\"vertical\")\n",
    "plt.subplots_adjust(hspace=0.7, wspace=0.2);"
   ]
  },
  {
   "cell_type": "code",
   "execution_count": 216,
   "id": "8e82be3c",
   "metadata": {},
   "outputs": [
    {
     "data": {
      "text/plain": [
       "Age                int64\n",
       "Workclass         object\n",
       "fnlwgt             int64\n",
       "Education         object\n",
       "Education_Num      int64\n",
       "Martial_Status    object\n",
       "Occupation        object\n",
       "Relationship      object\n",
       "Race              object\n",
       "Sex               object\n",
       "Capital_Gain       int64\n",
       "Capital_Loss       int64\n",
       "Hours_per_week     int64\n",
       "Country           object\n",
       "Target            object\n",
       "dtype: object"
      ]
     },
     "execution_count": 216,
     "metadata": {},
     "output_type": "execute_result"
    }
   ],
   "source": [
    "#checking data types \n",
    "data_train.dtypes"
   ]
  },
  {
   "cell_type": "code",
   "execution_count": 217,
   "id": "0e29d1fa",
   "metadata": {},
   "outputs": [
    {
     "data": {
      "text/plain": [
       "Age                object\n",
       "Workclass          object\n",
       "fnlwgt            float64\n",
       "Education          object\n",
       "Education_Num     float64\n",
       "Martial_Status     object\n",
       "Occupation         object\n",
       "Relationship       object\n",
       "Race               object\n",
       "Sex                object\n",
       "Capital_Gain      float64\n",
       "Capital_Loss      float64\n",
       "Hours_per_week    float64\n",
       "Country            object\n",
       "Target             object\n",
       "dtype: object"
      ]
     },
     "execution_count": 217,
     "metadata": {},
     "output_type": "execute_result"
    }
   ],
   "source": [
    "data_test.dtypes"
   ]
  },
  {
   "cell_type": "code",
   "execution_count": 218,
   "id": "3097673f",
   "metadata": {},
   "outputs": [],
   "source": [
    "data_test[\"Age\"] = data_test[\"Age\"].astype(int)\n",
    "data_test[\"fnlwgt\"] = data_test[\"fnlwgt\"].astype(int)\n",
    "data_test[\"Education_Num\"] = data_test[\"Education_Num\"].astype(int)\n",
    "data_test[\"Capital_Gain\"] = data_test[\"Capital_Gain\"].astype(int)\n",
    "data_test[\"Capital_Loss\"] = data_test[\"Capital_Loss\"].astype(int)\n",
    "data_test[\"Hours_per_week\"] = data_test[\"Hours_per_week\"].astype(int)"
   ]
  },
  {
   "cell_type": "code",
   "execution_count": 219,
   "id": "330f3b7f",
   "metadata": {},
   "outputs": [],
   "source": [
    "#Save targets separately\n",
    "y_train = data_train.pop('Target')\n",
    "y_test = data_test.pop('Target')"
   ]
  },
  {
   "cell_type": "code",
   "execution_count": 220,
   "id": "0f293cba",
   "metadata": {},
   "outputs": [
    {
     "name": "stdout",
     "output_type": "stream",
     "text": [
      "categorical_columns: ['Workclass', 'Education', 'Martial_Status', 'Occupation', 'Relationship', 'Race', 'Sex', 'Country']\n",
      "numerical_columns: ['Age', 'fnlwgt', 'Education_Num', 'Capital_Gain', 'Capital_Loss', 'Hours_per_week']\n"
     ]
    }
   ],
   "source": [
    "#Fill in missing data for continuous features with their median values, for categorical features with their mode\n",
    "# choose categorical and continuous features from data\n",
    "\n",
    "categorical_columns = [\n",
    "    c for c in data_train.columns if data_train[c].dtype.name == \"object\"\n",
    "]\n",
    "numerical_columns = [\n",
    "    c for c in data_train.columns if data_train[c].dtype.name != \"object\"\n",
    "]\n",
    "\n",
    "print(\"categorical_columns:\", categorical_columns)\n",
    "print(\"numerical_columns:\", numerical_columns)"
   ]
  },
  {
   "cell_type": "code",
   "execution_count": 221,
   "id": "a91b3c00",
   "metadata": {},
   "outputs": [
    {
     "name": "stdout",
     "output_type": "stream",
     "text": [
      "<class 'pandas.core.frame.DataFrame'>\n",
      "RangeIndex: 32561 entries, 0 to 32560\n",
      "Data columns (total 14 columns):\n",
      " #   Column          Non-Null Count  Dtype \n",
      "---  ------          --------------  ----- \n",
      " 0   Age             32561 non-null  int64 \n",
      " 1   Workclass       30725 non-null  object\n",
      " 2   fnlwgt          32561 non-null  int64 \n",
      " 3   Education       32561 non-null  object\n",
      " 4   Education_Num   32561 non-null  int64 \n",
      " 5   Martial_Status  32561 non-null  object\n",
      " 6   Occupation      30718 non-null  object\n",
      " 7   Relationship    32561 non-null  object\n",
      " 8   Race            32561 non-null  object\n",
      " 9   Sex             32561 non-null  object\n",
      " 10  Capital_Gain    32561 non-null  int64 \n",
      " 11  Capital_Loss    32561 non-null  int64 \n",
      " 12  Hours_per_week  32561 non-null  int64 \n",
      " 13  Country         31978 non-null  object\n",
      "dtypes: int64(6), object(8)\n",
      "memory usage: 3.5+ MB\n"
     ]
    }
   ],
   "source": [
    "# we see some missing values\n",
    "data_train.info()"
   ]
  },
  {
   "cell_type": "code",
   "execution_count": 222,
   "id": "af4eaeb1",
   "metadata": {},
   "outputs": [],
   "source": [
    "# fill missing data\n",
    "\n",
    "for c in categorical_columns:\n",
    "    data_train[c].fillna(data_train[c].mode()[0], inplace=True)\n",
    "    data_test[c].fillna(data_train[c].mode()[0], inplace=True)\n",
    "\n",
    "for c in numerical_columns:\n",
    "    data_train[c].fillna(data_train[c].median(), inplace=True)\n",
    "    data_test[c].fillna(data_train[c].median(), inplace=True)"
   ]
  },
  {
   "cell_type": "code",
   "execution_count": 223,
   "id": "198b231e",
   "metadata": {},
   "outputs": [
    {
     "name": "stdout",
     "output_type": "stream",
     "text": [
      "<class 'pandas.core.frame.DataFrame'>\n",
      "RangeIndex: 32561 entries, 0 to 32560\n",
      "Data columns (total 14 columns):\n",
      " #   Column          Non-Null Count  Dtype \n",
      "---  ------          --------------  ----- \n",
      " 0   Age             32561 non-null  int64 \n",
      " 1   Workclass       32561 non-null  object\n",
      " 2   fnlwgt          32561 non-null  int64 \n",
      " 3   Education       32561 non-null  object\n",
      " 4   Education_Num   32561 non-null  int64 \n",
      " 5   Martial_Status  32561 non-null  object\n",
      " 6   Occupation      32561 non-null  object\n",
      " 7   Relationship    32561 non-null  object\n",
      " 8   Race            32561 non-null  object\n",
      " 9   Sex             32561 non-null  object\n",
      " 10  Capital_Gain    32561 non-null  int64 \n",
      " 11  Capital_Loss    32561 non-null  int64 \n",
      " 12  Hours_per_week  32561 non-null  int64 \n",
      " 13  Country         32561 non-null  object\n",
      "dtypes: int64(6), object(8)\n",
      "memory usage: 3.5+ MB\n"
     ]
    }
   ],
   "source": [
    "# no more missing values\n",
    "data_train.info()"
   ]
  },
  {
   "cell_type": "code",
   "execution_count": 224,
   "id": "2840bb2e",
   "metadata": {},
   "outputs": [],
   "source": [
    "#We’ll dummy code some categorical features: Workclass, Education, Martial_Status, \n",
    "#Occupation, Relationship, Race, Sex, Country. It can be done via pandas method get_dummies\n",
    "data_train = pd.concat(\n",
    "    [data_train[numerical_columns], pd.get_dummies(data_train[categorical_columns])],\n",
    "    axis=1,\n",
    ")\n",
    "\n",
    "data_test = pd.concat(\n",
    "    [data_test[numerical_columns], pd.get_dummies(data_test[categorical_columns])],\n",
    "    axis=1,\n",
    ")"
   ]
  },
  {
   "cell_type": "code",
   "execution_count": 225,
   "id": "c89c1c59",
   "metadata": {},
   "outputs": [
    {
     "data": {
      "text/plain": [
       "{'Country_ Holand-Netherlands'}"
      ]
     },
     "execution_count": 225,
     "metadata": {},
     "output_type": "execute_result"
    }
   ],
   "source": [
    "set(data_train.columns) - set(data_test.columns)"
   ]
  },
  {
   "cell_type": "code",
   "execution_count": 226,
   "id": "5c420865",
   "metadata": {},
   "outputs": [
    {
     "data": {
      "text/plain": [
       "((32561, 105), (16281, 104))"
      ]
     },
     "execution_count": 226,
     "metadata": {},
     "output_type": "execute_result"
    }
   ],
   "source": [
    "data_train.shape, data_test.shape"
   ]
  },
  {
   "cell_type": "code",
   "execution_count": 227,
   "id": "b82de768",
   "metadata": {},
   "outputs": [],
   "source": [
    "#There is no Holland in the test data. Create new zero-valued feature\n",
    "data_test[\"Country_ Holand-Netherlands\"] = 0"
   ]
  },
  {
   "cell_type": "code",
   "execution_count": 228,
   "id": "1713c2c4",
   "metadata": {},
   "outputs": [
    {
     "data": {
      "text/plain": [
       "set()"
      ]
     },
     "execution_count": 228,
     "metadata": {},
     "output_type": "execute_result"
    }
   ],
   "source": [
    "set(data_train.columns) - set(data_test.columns)"
   ]
  },
  {
   "cell_type": "code",
   "execution_count": 229,
   "id": "41216851",
   "metadata": {},
   "outputs": [
    {
     "data": {
      "text/html": [
       "<div>\n",
       "<style scoped>\n",
       "    .dataframe tbody tr th:only-of-type {\n",
       "        vertical-align: middle;\n",
       "    }\n",
       "\n",
       "    .dataframe tbody tr th {\n",
       "        vertical-align: top;\n",
       "    }\n",
       "\n",
       "    .dataframe thead th {\n",
       "        text-align: right;\n",
       "    }\n",
       "</style>\n",
       "<table border=\"1\" class=\"dataframe\">\n",
       "  <thead>\n",
       "    <tr style=\"text-align: right;\">\n",
       "      <th></th>\n",
       "      <th>Age</th>\n",
       "      <th>fnlwgt</th>\n",
       "      <th>Education_Num</th>\n",
       "      <th>Capital_Gain</th>\n",
       "      <th>Capital_Loss</th>\n",
       "      <th>Hours_per_week</th>\n",
       "      <th>Workclass_ Federal-gov</th>\n",
       "      <th>Workclass_ Local-gov</th>\n",
       "      <th>Workclass_ Never-worked</th>\n",
       "      <th>Workclass_ Private</th>\n",
       "      <th>...</th>\n",
       "      <th>Country_ Portugal</th>\n",
       "      <th>Country_ Puerto-Rico</th>\n",
       "      <th>Country_ Scotland</th>\n",
       "      <th>Country_ South</th>\n",
       "      <th>Country_ Taiwan</th>\n",
       "      <th>Country_ Thailand</th>\n",
       "      <th>Country_ Trinadad&amp;Tobago</th>\n",
       "      <th>Country_ United-States</th>\n",
       "      <th>Country_ Vietnam</th>\n",
       "      <th>Country_ Yugoslavia</th>\n",
       "    </tr>\n",
       "  </thead>\n",
       "  <tbody>\n",
       "    <tr>\n",
       "      <th>0</th>\n",
       "      <td>39</td>\n",
       "      <td>77516</td>\n",
       "      <td>13</td>\n",
       "      <td>2174</td>\n",
       "      <td>0</td>\n",
       "      <td>40</td>\n",
       "      <td>0</td>\n",
       "      <td>0</td>\n",
       "      <td>0</td>\n",
       "      <td>0</td>\n",
       "      <td>...</td>\n",
       "      <td>0</td>\n",
       "      <td>0</td>\n",
       "      <td>0</td>\n",
       "      <td>0</td>\n",
       "      <td>0</td>\n",
       "      <td>0</td>\n",
       "      <td>0</td>\n",
       "      <td>1</td>\n",
       "      <td>0</td>\n",
       "      <td>0</td>\n",
       "    </tr>\n",
       "    <tr>\n",
       "      <th>1</th>\n",
       "      <td>50</td>\n",
       "      <td>83311</td>\n",
       "      <td>13</td>\n",
       "      <td>0</td>\n",
       "      <td>0</td>\n",
       "      <td>13</td>\n",
       "      <td>0</td>\n",
       "      <td>0</td>\n",
       "      <td>0</td>\n",
       "      <td>0</td>\n",
       "      <td>...</td>\n",
       "      <td>0</td>\n",
       "      <td>0</td>\n",
       "      <td>0</td>\n",
       "      <td>0</td>\n",
       "      <td>0</td>\n",
       "      <td>0</td>\n",
       "      <td>0</td>\n",
       "      <td>1</td>\n",
       "      <td>0</td>\n",
       "      <td>0</td>\n",
       "    </tr>\n",
       "  </tbody>\n",
       "</table>\n",
       "<p>2 rows × 105 columns</p>\n",
       "</div>"
      ],
      "text/plain": [
       "   Age  fnlwgt  Education_Num  Capital_Gain  Capital_Loss  Hours_per_week  \\\n",
       "0   39   77516             13          2174             0              40   \n",
       "1   50   83311             13             0             0              13   \n",
       "\n",
       "   Workclass_ Federal-gov  Workclass_ Local-gov  Workclass_ Never-worked  \\\n",
       "0                       0                     0                        0   \n",
       "1                       0                     0                        0   \n",
       "\n",
       "   Workclass_ Private  ...  Country_ Portugal  Country_ Puerto-Rico  \\\n",
       "0                   0  ...                  0                     0   \n",
       "1                   0  ...                  0                     0   \n",
       "\n",
       "   Country_ Scotland  Country_ South  Country_ Taiwan  Country_ Thailand  \\\n",
       "0                  0               0                0                  0   \n",
       "1                  0               0                0                  0   \n",
       "\n",
       "   Country_ Trinadad&Tobago  Country_ United-States  Country_ Vietnam  \\\n",
       "0                         0                       1                 0   \n",
       "1                         0                       1                 0   \n",
       "\n",
       "   Country_ Yugoslavia  \n",
       "0                    0  \n",
       "1                    0  \n",
       "\n",
       "[2 rows x 105 columns]"
      ]
     },
     "execution_count": 229,
     "metadata": {},
     "output_type": "execute_result"
    }
   ],
   "source": [
    "data_train.head(2)"
   ]
  },
  {
   "cell_type": "code",
   "execution_count": 230,
   "id": "7f4174b3",
   "metadata": {},
   "outputs": [
    {
     "data": {
      "text/html": [
       "<div>\n",
       "<style scoped>\n",
       "    .dataframe tbody tr th:only-of-type {\n",
       "        vertical-align: middle;\n",
       "    }\n",
       "\n",
       "    .dataframe tbody tr th {\n",
       "        vertical-align: top;\n",
       "    }\n",
       "\n",
       "    .dataframe thead th {\n",
       "        text-align: right;\n",
       "    }\n",
       "</style>\n",
       "<table border=\"1\" class=\"dataframe\">\n",
       "  <thead>\n",
       "    <tr style=\"text-align: right;\">\n",
       "      <th></th>\n",
       "      <th>Age</th>\n",
       "      <th>fnlwgt</th>\n",
       "      <th>Education_Num</th>\n",
       "      <th>Capital_Gain</th>\n",
       "      <th>Capital_Loss</th>\n",
       "      <th>Hours_per_week</th>\n",
       "      <th>Workclass_ Federal-gov</th>\n",
       "      <th>Workclass_ Local-gov</th>\n",
       "      <th>Workclass_ Never-worked</th>\n",
       "      <th>Workclass_ Private</th>\n",
       "      <th>...</th>\n",
       "      <th>Country_ Puerto-Rico</th>\n",
       "      <th>Country_ Scotland</th>\n",
       "      <th>Country_ South</th>\n",
       "      <th>Country_ Taiwan</th>\n",
       "      <th>Country_ Thailand</th>\n",
       "      <th>Country_ Trinadad&amp;Tobago</th>\n",
       "      <th>Country_ United-States</th>\n",
       "      <th>Country_ Vietnam</th>\n",
       "      <th>Country_ Yugoslavia</th>\n",
       "      <th>Country_ Holand-Netherlands</th>\n",
       "    </tr>\n",
       "  </thead>\n",
       "  <tbody>\n",
       "    <tr>\n",
       "      <th>1</th>\n",
       "      <td>25</td>\n",
       "      <td>226802</td>\n",
       "      <td>7</td>\n",
       "      <td>0</td>\n",
       "      <td>0</td>\n",
       "      <td>40</td>\n",
       "      <td>0</td>\n",
       "      <td>0</td>\n",
       "      <td>0</td>\n",
       "      <td>1</td>\n",
       "      <td>...</td>\n",
       "      <td>0</td>\n",
       "      <td>0</td>\n",
       "      <td>0</td>\n",
       "      <td>0</td>\n",
       "      <td>0</td>\n",
       "      <td>0</td>\n",
       "      <td>1</td>\n",
       "      <td>0</td>\n",
       "      <td>0</td>\n",
       "      <td>0</td>\n",
       "    </tr>\n",
       "    <tr>\n",
       "      <th>2</th>\n",
       "      <td>38</td>\n",
       "      <td>89814</td>\n",
       "      <td>9</td>\n",
       "      <td>0</td>\n",
       "      <td>0</td>\n",
       "      <td>50</td>\n",
       "      <td>0</td>\n",
       "      <td>0</td>\n",
       "      <td>0</td>\n",
       "      <td>1</td>\n",
       "      <td>...</td>\n",
       "      <td>0</td>\n",
       "      <td>0</td>\n",
       "      <td>0</td>\n",
       "      <td>0</td>\n",
       "      <td>0</td>\n",
       "      <td>0</td>\n",
       "      <td>1</td>\n",
       "      <td>0</td>\n",
       "      <td>0</td>\n",
       "      <td>0</td>\n",
       "    </tr>\n",
       "  </tbody>\n",
       "</table>\n",
       "<p>2 rows × 105 columns</p>\n",
       "</div>"
      ],
      "text/plain": [
       "   Age  fnlwgt  Education_Num  Capital_Gain  Capital_Loss  Hours_per_week  \\\n",
       "1   25  226802              7             0             0              40   \n",
       "2   38   89814              9             0             0              50   \n",
       "\n",
       "   Workclass_ Federal-gov  Workclass_ Local-gov  Workclass_ Never-worked  \\\n",
       "1                       0                     0                        0   \n",
       "2                       0                     0                        0   \n",
       "\n",
       "   Workclass_ Private  ...  Country_ Puerto-Rico  Country_ Scotland  \\\n",
       "1                   1  ...                     0                  0   \n",
       "2                   1  ...                     0                  0   \n",
       "\n",
       "   Country_ South  Country_ Taiwan  Country_ Thailand  \\\n",
       "1               0                0                  0   \n",
       "2               0                0                  0   \n",
       "\n",
       "   Country_ Trinadad&Tobago  Country_ United-States  Country_ Vietnam  \\\n",
       "1                         0                       1                 0   \n",
       "2                         0                       1                 0   \n",
       "\n",
       "   Country_ Yugoslavia  Country_ Holand-Netherlands  \n",
       "1                    0                            0  \n",
       "2                    0                            0  \n",
       "\n",
       "[2 rows x 105 columns]"
      ]
     },
     "execution_count": 230,
     "metadata": {},
     "output_type": "execute_result"
    }
   ],
   "source": [
    "data_test.head(2)"
   ]
  },
  {
   "cell_type": "code",
   "execution_count": 231,
   "id": "17cd5cd8",
   "metadata": {},
   "outputs": [],
   "source": [
    "X_train = data_train\n",
    "X_test = data_test"
   ]
  },
  {
   "cell_type": "code",
   "execution_count": 244,
   "id": "1f0fe657",
   "metadata": {},
   "outputs": [],
   "source": [
    "y_train = y_train.astype('int')\n",
    "y_test = y_test.astype('int')"
   ]
  },
  {
   "cell_type": "code",
   "execution_count": 245,
   "id": "9ff67378",
   "metadata": {},
   "outputs": [],
   "source": [
    "#Decision tree without parameter tuning"
   ]
  },
  {
   "cell_type": "code",
   "execution_count": 246,
   "id": "4252a6af",
   "metadata": {},
   "outputs": [
    {
     "data": {
      "text/plain": [
       "DecisionTreeClassifier(max_depth=3, random_state=17)"
      ]
     },
     "execution_count": 246,
     "metadata": {},
     "output_type": "execute_result"
    }
   ],
   "source": [
    "tree = DecisionTreeClassifier(max_depth=3, random_state=17)\n",
    "tree.fit(X_train, y_train)"
   ]
  },
  {
   "cell_type": "code",
   "execution_count": 256,
   "id": "0121f0f7",
   "metadata": {},
   "outputs": [
    {
     "data": {
      "text/plain": [
       "0.845"
      ]
     },
     "execution_count": 256,
     "metadata": {},
     "output_type": "execute_result"
    }
   ],
   "source": [
    "#6. What is the test set accuracy of a decision tree with maximum tree depth of 3 and random_state = 17?\n",
    "tree_pred = tree.predict(X_test[X_train.columns])\n",
    "round(accuracy_score(y_test, tree_pred), 3)"
   ]
  },
  {
   "cell_type": "code",
   "execution_count": 257,
   "id": "8cbee40d",
   "metadata": {},
   "outputs": [],
   "source": [
    "#Decision tree with parameter tuning"
   ]
  },
  {
   "cell_type": "code",
   "execution_count": 266,
   "id": "4b7917d1",
   "metadata": {},
   "outputs": [
    {
     "data": {
      "text/plain": [
       "{'max_depth': 9, 'random_state': 16}"
      ]
     },
     "execution_count": 266,
     "metadata": {},
     "output_type": "execute_result"
    }
   ],
   "source": [
    "tree_params = {\"max_depth\": range(2, 11), 'random_state': range(10, 20)}\n",
    "locally_best_tree = GridSearchCV(tree, tree_params, cv=5)\n",
    "locally_best_tree.fit(X_train, y_train)\n",
    "locally_best_tree.best_params_"
   ]
  },
  {
   "cell_type": "code",
   "execution_count": 267,
   "id": "6d50e0e0",
   "metadata": {},
   "outputs": [
    {
     "data": {
      "text/plain": [
       "0.858"
      ]
     },
     "execution_count": 267,
     "metadata": {},
     "output_type": "execute_result"
    }
   ],
   "source": [
    "round(accuracy_score(y_test, locally_best_tree.predict(X_test[X_train.columns])), 3)"
   ]
  },
  {
   "cell_type": "code",
   "execution_count": 270,
   "id": "6f114f7f",
   "metadata": {},
   "outputs": [],
   "source": [
    "# Random forest without parameter tuning"
   ]
  },
  {
   "cell_type": "code",
   "execution_count": 271,
   "id": "3f5ccab9",
   "metadata": {},
   "outputs": [
    {
     "data": {
      "text/plain": [
       "RandomForestClassifier(random_state=17)"
      ]
     },
     "execution_count": 271,
     "metadata": {},
     "output_type": "execute_result"
    }
   ],
   "source": [
    "rf = RandomForestClassifier(n_estimators=100, random_state=17)\n",
    "rf.fit(X_train, y_train)"
   ]
  },
  {
   "cell_type": "code",
   "execution_count": 273,
   "id": "41e4bc03",
   "metadata": {},
   "outputs": [
    {
     "data": {
      "text/plain": [
       "0.853"
      ]
     },
     "execution_count": 273,
     "metadata": {},
     "output_type": "execute_result"
    }
   ],
   "source": [
    "round(accuracy_score(y_test, rf.predict(X_test[X_train.columns])), 3)"
   ]
  },
  {
   "cell_type": "code",
   "execution_count": 274,
   "id": "abbe8120",
   "metadata": {},
   "outputs": [],
   "source": [
    "#Random forest with parameter tuning"
   ]
  },
  {
   "cell_type": "code",
   "execution_count": 275,
   "id": "36ef8443",
   "metadata": {},
   "outputs": [
    {
     "name": "stdout",
     "output_type": "stream",
     "text": [
      "Fitting 5 folds for each of 55 candidates, totalling 275 fits\n",
      "CPU times: user 6.43 s, sys: 300 ms, total: 6.73 s\n",
      "Wall time: 9min 42s\n"
     ]
    },
    {
     "data": {
      "text/plain": [
       "{'max_depth': 19, 'max_features': 25}"
      ]
     },
     "execution_count": 275,
     "metadata": {},
     "output_type": "execute_result"
    }
   ],
   "source": [
    "%%time\n",
    "forest_params = {\"max_depth\": range(10, 21), \"max_features\": range(5, 105, 20)}\n",
    "locally_best_forest = GridSearchCV(rf, forest_params, cv=5, n_jobs=-1, verbose=True)\n",
    "locally_best_forest.fit(X_train, y_train)\n",
    "locally_best_forest.best_params_"
   ]
  },
  {
   "cell_type": "code",
   "execution_count": 276,
   "id": "bd15d923",
   "metadata": {},
   "outputs": [
    {
     "data": {
      "text/plain": [
       "0.864"
      ]
     },
     "execution_count": 276,
     "metadata": {},
     "output_type": "execute_result"
    }
   ],
   "source": [
    "round(accuracy_score(y_test, locally_best_forest.predict(X_test[X_train.columns])), 3)"
   ]
  },
  {
   "cell_type": "code",
   "execution_count": null,
   "id": "02ed647d",
   "metadata": {},
   "outputs": [],
   "source": []
  }
 ],
 "metadata": {
  "kernelspec": {
   "display_name": "Python 3 (ipykernel)",
   "language": "python",
   "name": "python3"
  },
  "language_info": {
   "codemirror_mode": {
    "name": "ipython",
    "version": 3
   },
   "file_extension": ".py",
   "mimetype": "text/x-python",
   "name": "python",
   "nbconvert_exporter": "python",
   "pygments_lexer": "ipython3",
   "version": "3.9.13"
  }
 },
 "nbformat": 4,
 "nbformat_minor": 5
}
